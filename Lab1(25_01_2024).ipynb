{
  "cells": [
    {
      "cell_type": "markdown",
      "metadata": {
        "id": "LQZzb-50Uli5"
      },
      "source": [
        "# BFS"
      ]
    },
    {
      "cell_type": "code",
      "execution_count": 2,
      "metadata": {
        "colab": {
          "base_uri": "https://localhost:8080/"
        },
        "id": "RaNdk_tnIZyh",
        "outputId": "764506e1-009e-49a0-909e-29f4c6b208b3"
      },
      "outputs": [
        {
          "name": "stdout",
          "output_type": "stream",
          "text": [
            "Initial state - Queue: ['A'], Visited: {'A'}\n",
            "Current node: A - Queue: [], Visited: {'A'}\n",
            "Current node: B - Queue: ['C'], Visited: {'A', 'C', 'B'}\n",
            "Current node: C - Queue: ['D'], Visited: {'A', 'C', 'D', 'B'}\n",
            "Current node: D - Queue: ['E', 'F'], Visited: {'D', 'A', 'F', 'B', 'E', 'C'}\n",
            "Current node: E - Queue: ['F', 'G'], Visited: {'D', 'G', 'A', 'F', 'B', 'E', 'C'}\n",
            "Current node: F - Queue: ['G'], Visited: {'D', 'G', 'A', 'F', 'B', 'E', 'C'}\n",
            "Current node: G - Queue: [], Visited: {'D', 'G', 'A', 'F', 'B', 'E', 'C'}\n",
            "\n",
            "Goal node found!\n"
          ]
        },
        {
          "data": {
            "text/plain": [
              "True"
            ]
          },
          "execution_count": 2,
          "metadata": {},
          "output_type": "execute_result"
        }
      ],
      "source": [
        "from collections import deque\n",
        "\n",
        "def BFS(graph, initial, goal):\n",
        "  queue = deque([initial])\n",
        "  visited = set()\n",
        "  visited.add(initial)\n",
        "  print(f\"Initial state - Queue: {list(queue)}, Visited: {visited}\")\n",
        "  while queue:\n",
        "    current_node = queue.popleft()\n",
        "    print(f\"Current node: {current_node} - Queue: {list(queue)}, Visited: {visited}\")\n",
        "    if current_node == goal:\n",
        "      print(\"\\nGoal node found!\")\n",
        "      return True\n",
        "    for neighbor in graph[current_node]:\n",
        "      if neighbor not in visited:\n",
        "        visited.add(neighbor)\n",
        "        queue.append(neighbor)\n",
        "  print(f\"Neighbors added - Queue: {list(queue)}, Visited: {visited}\")\n",
        "  print(\"\\nGoal node not found!\")\n",
        "  return False\n",
        "\n",
        "small_graph = {'A': ['B', 'C'], 'B':['D'], 'C':['E', 'F'], 'D':['G'], 'E':[], 'F':[], 'G':[]}\n",
        "BFS(small_graph, 'A', 'G')"
      ]
    },
    {
      "cell_type": "markdown",
      "metadata": {
        "id": "5TLHZq7OVCJx"
      },
      "source": [
        "# UCS"
      ]
    },
    {
      "cell_type": "code",
      "execution_count": 3,
      "metadata": {
        "id": "QWLgXx1EUiIU"
      },
      "outputs": [],
      "source": [
        "class Graph:\n",
        "    def __init__(self):\n",
        "        self.edges = {}\n",
        "        self.weights = {}\n",
        "\n",
        "    def add_edge(self, from_node, to_node, weight):\n",
        "        if from_node not in self.edges:\n",
        "            self.edges[from_node] = []\n",
        "        self.edges[from_node].append(to_node)\n",
        "\n",
        "        self.weights[(from_node, to_node)] = weight\n",
        "\n",
        "        if to_node not in self.edges:\n",
        "            self.edges[to_node] = []\n",
        "        self.edges[to_node].append(from_node)\n",
        "        self.weights[(to_node, from_node)] = weight\n",
        "\n",
        "    def neighbors(self, node):\n",
        "        return self.edges.get(node, [])\n",
        "\n",
        "    def get_cost(self, from_node, to_node):\n",
        "        return self.weights.get((from_node, to_node), float('inf'))"
      ]
    },
    {
      "cell_type": "code",
      "execution_count": 4,
      "metadata": {
        "colab": {
          "base_uri": "https://localhost:8080/"
        },
        "id": "I4Mx4CK-VGKN",
        "outputId": "6485d8a9-69c1-41b0-85a0-3e46abb4618b"
      },
      "outputs": [
        {
          "name": "stdout",
          "output_type": "stream",
          "text": [
            "Initial state - Queue: [(0, 'A')], Visisted: set()\n",
            "Current node: A - Queue: [], Visited: set(), Cost: 0\n",
            "Neighbours added - Queue: [(1, 'C'), (2, 'B')], Visited: {'A'}\n",
            "Current node: C - Queue: [(2, 'B')], Visited: {'A'}, Cost: 1\n",
            "Neighbours added - Queue: [(2, 'B')], Visited: {'A', 'C'}\n",
            "Current node: B - Queue: [], Visited: {'A', 'C'}, Cost: 2\n",
            "Neighbours added - Queue: [(5, 'D')], Visited: {'A', 'C', 'B'}\n",
            "Current node: D - Queue: [], Visited: {'A', 'C', 'B'}, Cost: 5\n",
            "Goal node D found with cost 5!\n"
          ]
        }
      ],
      "source": [
        "from queue import PriorityQueue\n",
        "\n",
        "def ucs(graph, initial, goal):\n",
        "    visited = set()\n",
        "    queue = PriorityQueue()\n",
        "    queue.put((0, initial))\n",
        "\n",
        "    print(f\"Initial state - Queue: {list(queue.queue)}, Visisted: {visited}\")\n",
        "\n",
        "    while not queue.empty():\n",
        "        cost, node = queue.get()\n",
        "        print(f\"Current node: {node} - Queue: {list(queue.queue)}, Visited: {visited}, Cost: {cost}\")\n",
        "\n",
        "        if node not in visited:\n",
        "            visited.add(node)\n",
        "\n",
        "            if node == goal:\n",
        "                print(f\"Goal node {goal} found with cost {cost}!\")\n",
        "                return\n",
        "\n",
        "            for neighbor in graph.neighbors(node):\n",
        "                if neighbor not in visited:\n",
        "                    total_cost = cost + graph.get_cost(node, neighbor)\n",
        "                    queue.put((total_cost, neighbor))\n",
        "        print(f\"Neighbours added - Queue: {list(queue.queue)}, Visited: {visited}\")\n",
        "\n",
        "    print(f\"Goal node {goal} not found!\")\n",
        "\n",
        "\n",
        "my_graph = Graph()\n",
        "my_graph.add_edge('A', 'B', 2)\n",
        "my_graph.add_edge('A', 'C', 1)\n",
        "my_graph.add_edge('B', 'D', 3)\n",
        "ucs(my_graph,'A','D')"
      ]
    },
    {
      "cell_type": "markdown",
      "metadata": {
        "id": "dn4VS9HtWQnY"
      },
      "source": [
        "# DFS"
      ]
    },
    {
      "cell_type": "code",
      "execution_count": 5,
      "metadata": {
        "colab": {
          "base_uri": "https://localhost:8080/"
        },
        "id": "szN1uXHVWISy",
        "outputId": "e74d7a38-a3ea-4f38-a49b-37b24000ee4f"
      },
      "outputs": [
        {
          "name": "stdout",
          "output_type": "stream",
          "text": [
            "Current node: A - Stack: [], Visited: set()\n",
            "Current node: B - Stack: ['C'], Visited: {'A'}\n",
            "Current node: D - Stack: ['C', 'E'], Visited: {'A', 'B'}\n",
            "Current node: E - Stack: ['C'], Visited: {'A', 'D', 'B'}\n",
            "Current node: C - Stack: [], Visited: {'A', 'D', 'E', 'B'}\n",
            "Current node: F - Stack: [], Visited: {'D', 'A', 'B', 'E', 'C'}\n",
            "\n",
            "Goal node found!\n"
          ]
        },
        {
          "data": {
            "text/plain": [
              "True"
            ]
          },
          "execution_count": 5,
          "metadata": {},
          "output_type": "execute_result"
        }
      ],
      "source": [
        "def DFS(graph, initial, goal):\n",
        "    stack = [initial]\n",
        "    visited = set()\n",
        "\n",
        "    while stack:\n",
        "        current_node = stack.pop()\n",
        "        print(f\"Current node: {current_node} - Stack: {stack}, Visited: {visited}\")\n",
        "\n",
        "        if current_node == goal:\n",
        "            print(\"\\nGoal node found!\")\n",
        "            return True\n",
        "\n",
        "        if current_node not in visited:\n",
        "            visited.add(current_node)\n",
        "            stack.extend(neighbor for neighbor in reversed(graph[current_node]) if neighbor not in visited)\n",
        "\n",
        "    print(\"\\nGoal node not found!\")\n",
        "    return False\n",
        "\n",
        "graph = {'A': ['B', 'C'], 'B': ['D', 'E'], 'C': ['F'], 'D': [], 'E': [], 'F': []}\n",
        "DFS(graph,'A','F')"
      ]
    }
  ],
  "metadata": {
    "colab": {
      "provenance": []
    },
    "kernelspec": {
      "display_name": "Python 3",
      "name": "python3"
    },
    "language_info": {
      "codemirror_mode": {
        "name": "ipython",
        "version": 3
      },
      "file_extension": ".py",
      "mimetype": "text/x-python",
      "name": "python",
      "nbconvert_exporter": "python",
      "pygments_lexer": "ipython3",
      "version": "3.11.5"
    }
  },
  "nbformat": 4,
  "nbformat_minor": 0
}
