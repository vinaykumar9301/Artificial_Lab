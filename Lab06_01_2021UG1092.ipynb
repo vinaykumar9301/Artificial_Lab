{
 "cells": [
  {
   "cell_type": "code",
   "execution_count": 1,
   "id": "32d56850",
   "metadata": {},
   "outputs": [],
   "source": [
    "from tkinter import *\n",
    "\n",
    "root = Tk()\n",
    "root.title(\"Chatbot\")\n",
    "\n",
    "def send():\n",
    "    send = \"You -> \" + e.get()\n",
    "    txt.insert(END, \"\\n\" + send)\n",
    "    user = e.get().lower()\n",
    "    if user == \"hello\":\n",
    "        txt.insert(END, \"\\n\" + \"Bot -> Hi\")\n",
    "    elif user in [\"hi\", \"hii\", \"hiiii\"]:\n",
    "        txt.insert(END, \"\\n\" + \"Bot -> Hello\")\n",
    "    elif user == \"how are you\":\n",
    "        txt.insert(END, \"\\n\" + \"Bot -> fine! and you\")\n",
    "    elif user in [\"fine\", \"i am good\", \"i am doing good\"]:\n",
    "        txt.insert(END, \"\\n\" + \"Bot -> Great! how can I help you.\")\n",
    "    else:\n",
    "        txt.insert(END, \"\\n\" + \"Bot -> Sorry! I didn't get you\")\n",
    "    e.delete(0, END)\n",
    "\n",
    "txt = Text(root)\n",
    "txt.grid(row=0, column=0, columnspan=2)\n",
    "\n",
    "e = Entry(root, width=100)\n",
    "e.grid(row=1, column=0)\n",
    "\n",
    "send = Button(root, text=\"Send\", command=send)\n",
    "send.grid(row=1, column=1)\n",
    "\n",
    "root.mainloop()"
   ]
  }
 ],
 "metadata": {
  "kernelspec": {
   "display_name": "Python 3 (ipykernel)",
   "language": "python",
   "name": "python3"
  },
  "language_info": {
   "codemirror_mode": {
    "name": "ipython",
    "version": 3
   },
   "file_extension": ".py",
   "mimetype": "text/x-python",
   "name": "python",
   "nbconvert_exporter": "python",
   "pygments_lexer": "ipython3",
   "version": "3.11.5"
  }
 },
 "nbformat": 4,
 "nbformat_minor": 5
}
