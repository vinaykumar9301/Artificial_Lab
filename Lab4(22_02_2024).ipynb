{
  "cells": [
    {
      "cell_type": "code",
      "execution_count": 2,
      "metadata": {
        "colab": {
          "base_uri": "https://localhost:8080/"
        },
        "id": "3cuhen7kWqeS",
        "outputId": "423835be-c741-47b0-dede-a49713f3fb86"
      },
      "outputs": [
        {
          "name": "stdout",
          "output_type": "stream",
          "text": [
            "(x,y) ∈ {(3,9),(3,8),(3,7),(3,6),(3,5),(3,4),(3,3),(3,2),(2,9),(2,8),(2,7),(2,6),(2,5),(2,4),(2,3),(1,9),(1,8),(1,7),(1,6),(1,5),(1,4)}\n"
          ]
        }
      ],
      "source": [
        "import constraint\n",
        "\n",
        "problem = constraint.Problem()\n",
        "\n",
        "problem.addVariable('x', [1,2,3])\n",
        "problem.addVariable('y', range(10))\n",
        "\n",
        "def our_constraint(x, y):\n",
        "    if x + y >= 5:\n",
        "        return True\n",
        "\n",
        "problem.addConstraint(our_constraint, ['x','y'])\n",
        "\n",
        "solutions = problem.getSolutions()\n",
        "\n",
        "length = len(solutions)\n",
        "print(\"(x,y) ∈ {\", end=\"\")\n",
        "for index, solution in enumerate(solutions):\n",
        "    if index == length - 1:\n",
        "        print(\"({},{})\".format(solution['x'], solution['y']), end=\"\")\n",
        "    else:\n",
        "        print(\"({},{}),\".format(solution['x'], solution['y']), end=\"\")\n",
        "print(\"}\")"
      ]
    },
    {
      "cell_type": "code",
      "execution_count": 4,
      "metadata": {
        "colab": {
          "base_uri": "https://localhost:8080/"
        },
        "id": "LYPHTpEMW_AW",
        "outputId": "f7747c77-bb28-4011-c4bd-08ea740eff56"
      },
      "outputs": [
        {
          "name": "stdout",
          "output_type": "stream",
          "text": [
            "Number of solutions found: 7\n",
            "\n",
            "T = 7, W = 6, O = 5, F = 1, U = 3, R = 0\n",
            "T = 7, W = 3, O = 4, F = 1, U = 6, R = 8\n",
            "T = 8, W = 6, O = 7, F = 1, U = 3, R = 4\n",
            "T = 8, W = 4, O = 6, F = 1, U = 9, R = 2\n",
            "T = 8, W = 3, O = 6, F = 1, U = 7, R = 2\n",
            "T = 9, W = 2, O = 8, F = 1, U = 5, R = 6\n",
            "T = 9, W = 3, O = 8, F = 1, U = 7, R = 6\n"
          ]
        }
      ],
      "source": [
        "import constraint\n",
        "\n",
        "problem = constraint.Problem()\n",
        "\n",
        "problem.addVariables(\"TF\", range(1, 10))\n",
        "problem.addVariables(\"WOUR\", range(10))\n",
        "\n",
        "def sum_constraint(t, w, o, f, u, r):\n",
        "    if 2*(t*100 + w*10 + o) == f*1000 + o*100 + u*10 + r:\n",
        "        return True\n",
        "\n",
        "problem.addConstraint(sum_constraint, \"TWOFUR\")\n",
        "\n",
        "problem.addConstraint(constraint.AllDifferentConstraint())\n",
        "\n",
        "solutions = problem.getSolutions()\n",
        "print(\"Number of solutions found: {}\\n\".format(len(solutions)))\n",
        "\n",
        "for s in solutions:\n",
        "    print(\"T = {}, W = {}, O = {}, F = {}, U = {}, R = {}\"\n",
        "        .format(s['T'], s['W'], s['O'], s['F'], s['U'], s['R']))"
      ]
    },
    {
      "cell_type": "code",
      "execution_count": 5,
      "metadata": {
        "colab": {
          "base_uri": "https://localhost:8080/"
        },
        "id": "3ldP3gXKXgJV",
        "outputId": "ce322439-c5dd-4228-fe26-a45289a55fa7"
      },
      "outputs": [
        {
          "name": "stdout",
          "output_type": "stream",
          "text": [
            "Class1 scheduled at Slot4\n",
            "Class4 scheduled at Slot3\n",
            "Class2 scheduled at Slot4\n",
            "Class3 scheduled at Slot4\n"
          ]
        }
      ],
      "source": [
        "from constraint import Problem, AllDifferentConstraint\n",
        "\n",
        "def class_scheduling():\n",
        "    time_slots = [\"Slot1\", \"Slot2\", \"Slot3\", \"Slot4\"]\n",
        "\n",
        "    classes = {\n",
        "        \"Class1\": [\"ProfA\", \"Room1\"],\n",
        "        \"Class2\": [\"ProfB\", \"Room2\"],\n",
        "        \"Class3\": [\"ProfC\", \"Room3\"],\n",
        "        \"Class4\": [\"ProfD\", \"Room1\"],\n",
        "    }\n",
        "    problem = Problem()\n",
        "\n",
        "    for class_name, class_info in classes.items():\n",
        "        problem.addVariable(class_name, time_slots)\n",
        "    for class_name, class_info in classes.items():\n",
        "        professor, room = class_info\n",
        "        problem.addConstraint(AllDifferentConstraint(), [c for c in classes if classes[c][0] == professor])\n",
        "        problem.addConstraint(AllDifferentConstraint(), [c for c in classes if classes[c][1] == room])\n",
        "\n",
        "    solution = problem.getSolution()\n",
        "\n",
        "    if solution:\n",
        "        for class_name, time_slot in solution.items():\n",
        "            print(f\"{class_name} scheduled at {time_slot}\")\n",
        "    else:\n",
        "        print(\"No valid schedule found.\")\n",
        "\n",
        "class_scheduling()\n"
      ]
    },
    {
      "cell_type": "code",
      "execution_count": 6,
      "metadata": {
        "colab": {
          "base_uri": "https://localhost:8080/"
        },
        "id": "P24c_JnYXoCl",
        "outputId": "298f9db4-141e-46df-b09d-b9029029d0e4"
      },
      "outputs": [
        {
          "name": "stdout",
          "output_type": "stream",
          "text": [
            "Row 1: Column 8\n",
            "Row 2: Column 4\n",
            "Row 3: Column 1\n",
            "Row 4: Column 3\n",
            "Row 5: Column 6\n",
            "Row 6: Column 2\n",
            "Row 7: Column 7\n",
            "Row 8: Column 5\n"
          ]
        }
      ],
      "source": [
        "from constraint import Problem, AllDifferentConstraint\n",
        "\n",
        "def n_queens_problem(n):\n",
        "    problem = Problem()\n",
        "    for i in range(n):\n",
        "        problem.addVariable(f\"Queen_{i + 1}\", range(1, n + 1))\n",
        "    problem.addConstraint(AllDifferentConstraint())\n",
        "    for i in range(n):\n",
        "        for j in range(i + 1, n):\n",
        "            problem.addConstraint(lambda x, y, i=i, j=j: abs(x - y) != abs(i - j), (f\"Queen_{i + 1}\", f\"Queen_{j + 1}\"))\n",
        "    solution = problem.getSolution()\n",
        "    if solution:\n",
        "        for i in range(n):\n",
        "            print(f\"Row {i + 1}: Column {solution[f'Queen_{i + 1}']}\")\n",
        "    else:\n",
        "        print(f\"No solution found for {n}-Queens problem.\")\n",
        "\n",
        "n_queens_problem(8)"
      ]
    },
    {
      "cell_type": "code",
      "execution_count": 7,
      "metadata": {
        "id": "pZFldpBUi6jK"
      },
      "outputs": [],
      "source": [
        "import constraint\n",
        "\n",
        "problem = constraint.Problem()\n",
        "problem.addVariables(\"TGO\", range(1, 10))\n",
        "problem.addVariables(\"U\", range(10))"
      ]
    },
    {
      "cell_type": "code",
      "execution_count": 8,
      "metadata": {
        "id": "lzrZ6rGbi9Mg"
      },
      "outputs": [],
      "source": [
        "def sum_constraint(t,g,o,u):\n",
        "    if (t*10+o)+(g*10+o) ==o*100 + u*10 + t:\n",
        "        return True"
      ]
    },
    {
      "cell_type": "code",
      "execution_count": 9,
      "metadata": {
        "id": "dxLK-LxyjApX"
      },
      "outputs": [],
      "source": [
        "problem.addConstraint(sum_constraint, \"TGOU\")\n",
        "problem.addConstraint(constraint.AllDifferentConstraint())"
      ]
    },
    {
      "cell_type": "code",
      "execution_count": 10,
      "metadata": {
        "colab": {
          "base_uri": "https://localhost:8080/"
        },
        "id": "MQVZWDWajDsp",
        "outputId": "3325e094-d0c8-441b-bdc1-20ba6f04083d"
      },
      "outputs": [
        {
          "name": "stdout",
          "output_type": "stream",
          "text": [
            "Number of solutions found: 1\n",
            "\n",
            "T = 2, O = 8, G = 1, U = 0\n"
          ]
        }
      ],
      "source": [
        "solutions = problem.getSolutions()\n",
        "print(\"Number of solutions found: {}\\n\".format(len(solutions)))\n",
        "for s in solutions:\n",
        "    print(\"T = {}, O = {}, G = {}, U = {}\"\n",
        "        .format(s['T'], s['G'], s['O'], s['U']))"
      ]
    }
  ],
  "metadata": {
    "colab": {
      "provenance": []
    },
    "kernelspec": {
      "display_name": "Python 3",
      "name": "python3"
    },
    "language_info": {
      "codemirror_mode": {
        "name": "ipython",
        "version": 3
      },
      "file_extension": ".py",
      "mimetype": "text/x-python",
      "name": "python",
      "nbconvert_exporter": "python",
      "pygments_lexer": "ipython3",
      "version": "3.11.5"
    }
  },
  "nbformat": 4,
  "nbformat_minor": 0
}
