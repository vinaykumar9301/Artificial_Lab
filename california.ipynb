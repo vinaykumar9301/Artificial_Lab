{
  "cells": [
    {
      "cell_type": "code",
      "execution_count": 1,
      "metadata": {
        "colab": {
          "base_uri": "https://localhost:8080/"
        },
        "id": "CGw6-exv2fvO",
        "outputId": "83f42ee0-7726-4167-bf40-36115d2cfefc"
      },
      "outputs": [
        {
          "name": "stdout",
          "output_type": "stream",
          "text": [
            "Training RMSE: 2.977757744128424e-16\n",
            "Testing RMSE: 0.7057309747866422\n",
            "Training MAE: 4.10954646712025e-17\n",
            "Testing MAE: 0.4537254408914728\n"
          ]
        }
      ],
      "source": [
        "import numpy as np\n",
        "import pandas as pd\n",
        "from sklearn.datasets import fetch_california_housing\n",
        "from sklearn.model_selection import train_test_split\n",
        "from sklearn.tree import DecisionTreeRegressor\n",
        "from sklearn.metrics import mean_squared_error, mean_absolute_error\n",
        "\n",
        "# Load California housing dataset\n",
        "california_housing = fetch_california_housing()\n",
        "X = pd.DataFrame(california_housing.data, columns=california_housing.feature_names)\n",
        "y = pd.Series(california_housing.target)\n",
        "\n",
        "# Split data into training and testing sets\n",
        "X_train, X_test, y_train, y_test = train_test_split(X, y, test_size=0.2, random_state=42)\n",
        "\n",
        "# Initialize Decision Tree Regressor\n",
        "dt_regressor = DecisionTreeRegressor()\n",
        "\n",
        "# Train the model\n",
        "dt_regressor.fit(X_train, y_train)\n",
        "\n",
        "# Predictions on the training set\n",
        "train_predictions = dt_regressor.predict(X_train)\n",
        "\n",
        "# Predictions on the test set\n",
        "test_predictions = dt_regressor.predict(X_test)\n",
        "\n",
        "# Calculate RMSE (Root Mean Squared Error)\n",
        "train_rmse = np.sqrt(mean_squared_error(y_train, train_predictions))\n",
        "test_rmse = np.sqrt(mean_squared_error(y_test, test_predictions))\n",
        "\n",
        "# Calculate MAE (Mean Absolute Error)\n",
        "train_mae = mean_absolute_error(y_train, train_predictions)\n",
        "test_mae = mean_absolute_error(y_test, test_predictions)\n",
        "\n",
        "print(\"Training RMSE:\", train_rmse)\n",
        "print(\"Testing RMSE:\", test_rmse)\n",
        "print(\"Training MAE:\", train_mae)\n",
        "print(\"Testing MAE:\", test_mae)\n",
        "\n",
        "# decision tree regressor"
      ]
    }
  ],
  "metadata": {
    "colab": {
      "provenance": []
    },
    "kernelspec": {
      "display_name": "Python 3",
      "name": "python3"
    },
    "language_info": {
      "codemirror_mode": {
        "name": "ipython",
        "version": 3
      },
      "file_extension": ".py",
      "mimetype": "text/x-python",
      "name": "python",
      "nbconvert_exporter": "python",
      "pygments_lexer": "ipython3",
      "version": "3.11.5"
    }
  },
  "nbformat": 4,
  "nbformat_minor": 0
}
