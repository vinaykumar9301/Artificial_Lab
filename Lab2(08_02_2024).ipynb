{
  "cells": [
    {
      "cell_type": "code",
      "execution_count": 1,
      "metadata": {
        "id": "7l5JTVNpUHQ_"
      },
      "outputs": [],
      "source": [
        "import numpy\n",
        "\n",
        "def matrix_factorization(R, P, Q, K, steps=5000, alpha=0.0002, beta=0.02):\n",
        "    '''\n",
        "    R: rating matrix\n",
        "    P: |U| * K (User features matrix)\n",
        "    Q: |D| * K (Item features matrix)\n",
        "    K: latent features\n",
        "    steps: iterations\n",
        "    alpha: learning rate\n",
        "    beta: regularization parameter'''\n",
        "    Q = Q.T\n",
        "\n",
        "    for step in range(steps):\n",
        "        for i in range(len(R)):\n",
        "            for j in range(len(R[i])):\n",
        "                if R[i][j] > 0:\n",
        "                    # calculate error\n",
        "                    eij = R[i][j] - numpy.dot(P[i,:],Q[:,j])\n",
        "\n",
        "                    for k in range(K):\n",
        "                        # calculate gradient with a and beta parameter\n",
        "                        P[i][k] = P[i][k] + alpha * (2 * eij * Q[k][j] - beta * P[i][k])\n",
        "                        Q[k][j] = Q[k][j] + alpha * (2 * eij * P[i][k] - beta * Q[k][j])\n",
        "\n",
        "        eR = numpy.dot(P,Q)\n",
        "\n",
        "        e = 0\n",
        "\n",
        "        for i in range(len(R)):\n",
        "\n",
        "            for j in range(len(R[i])):\n",
        "\n",
        "                if R[i][j] > 0:\n",
        "\n",
        "                    e = e + pow(R[i][j] - numpy.dot(P[i,:],Q[:,j]), 2)\n",
        "\n",
        "                    for k in range(K):\n",
        "\n",
        "                        e = e + (beta/2) * (pow(P[i][k],2) + pow(Q[k][j],2))\n",
        "        # 0.001: local minimum\n",
        "        if e < 0.001:\n",
        "\n",
        "            break\n",
        "\n",
        "    return P, Q.T"
      ]
    },
    {
      "cell_type": "code",
      "execution_count": 2,
      "metadata": {
        "colab": {
          "base_uri": "https://localhost:8080/"
        },
        "id": "5lenXJgpUj3p",
        "outputId": "6bae46b2-5187-4bc4-fd0c-7f0622b0a4f4"
      },
      "outputs": [
        {
          "name": "stdout",
          "output_type": "stream",
          "text": [
            "[[5 3 0 1]\n",
            " [4 0 0 1]\n",
            " [1 1 0 5]\n",
            " [1 0 0 4]\n",
            " [0 1 5 4]\n",
            " [2 1 3 0]]\n",
            "[[4.98786081 2.95835383 2.86987433 1.00096773]\n",
            " [3.98008995 2.29889376 2.56024056 0.99770945]\n",
            " [1.02417405 0.9556532  5.27845921 4.96396335]\n",
            " [0.99910076 0.59787308 4.55805225 3.97543148]\n",
            " [1.82094392 1.02158102 4.96122645 4.01579389]\n",
            " [1.94636356 1.06394747 2.99971086 2.08666154]]\n"
          ]
        }
      ],
      "source": [
        "R = [\n",
        "\n",
        "     [5,3,0,1],\n",
        "\n",
        "     [4,0,0,1],\n",
        "\n",
        "     [1,1,0,5],\n",
        "\n",
        "     [1,0,0,4],\n",
        "\n",
        "     [0,1,5,4],\n",
        "\n",
        "     [2,1,3,0],\n",
        "\n",
        "    ]\n",
        "\n",
        "R = numpy.array(R)\n",
        "# N: num of User\n",
        "N = len(R)\n",
        "# M: num of Movie\n",
        "M = len(R[0])\n",
        "# Num of Features\n",
        "K = 3\n",
        "\n",
        "\n",
        "P = numpy.random.rand(N,K)\n",
        "Q = numpy.random.rand(M,K)\n",
        "\n",
        "\n",
        "\n",
        "nP, nQ = matrix_factorization(R, P, Q, K)\n",
        "\n",
        "nR = numpy.dot(nP, nQ.T)\n",
        "\n",
        "print(R)\n",
        "print(nR)"
      ]
    },
    {
      "cell_type": "code",
      "execution_count": 4,
      "metadata": {
        "colab": {
          "base_uri": "https://localhost:8080/"
        },
        "id": "PdB2-j5qVfgI",
        "outputId": "c2a08b81-89e4-4819-f35e-1972bfc2e733"
      },
      "outputs": [
        {
          "name": "stdout",
          "output_type": "stream",
          "text": [
            "Root Mean Square Error: 0.01750435235650004\n"
          ]
        }
      ],
      "source": [
        "def calculate_rmse(R, P, Q):\n",
        "    \"\"\"\n",
        "    Calculate Root Mean Square Error (RMSE) between the original and predicted ratings.\n",
        "    \"\"\"\n",
        "    e = 0\n",
        "    count = 0\n",
        "    for i in range(len(R)):\n",
        "        for j in range(len(R[i])):\n",
        "            if R[i][j] > 0:\n",
        "                e += pow(R[i][j] - numpy.dot(P[i, :], Q[:, j]), 2)\n",
        "                count += 1\n",
        "    rmse = numpy.sqrt(e / count)\n",
        "    return rmse\n",
        "\n",
        "# Call the matrix_factorization function\n",
        "nP, nQ = matrix_factorization(R, P, Q, K)\n",
        "\n",
        "# Calculate RMSE\n",
        "rmse = calculate_rmse(R, nP, nQ.T)\n",
        "\n",
        "# Print the RMSE\n",
        "print(f\"Root Mean Square Error: {rmse}\")\n"
      ]
    }
  ],
  "metadata": {
    "colab": {
      "provenance": []
    },
    "kernelspec": {
      "display_name": "Python 3",
      "name": "python3"
    },
    "language_info": {
      "codemirror_mode": {
        "name": "ipython",
        "version": 3
      },
      "file_extension": ".py",
      "mimetype": "text/x-python",
      "name": "python",
      "nbconvert_exporter": "python",
      "pygments_lexer": "ipython3",
      "version": "3.11.5"
    }
  },
  "nbformat": 4,
  "nbformat_minor": 0
}
